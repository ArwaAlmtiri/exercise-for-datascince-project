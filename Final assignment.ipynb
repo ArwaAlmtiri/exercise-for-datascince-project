{
 "cells": [
  {
   "cell_type": "markdown",
   "id": "673cf2cf",
   "metadata": {},
   "source": [
    "# this is a final assignment"
   ]
  },
  {
   "cell_type": "markdown",
   "id": "4cc5fc34",
   "metadata": {},
   "source": [
    "### In this notebook, I will do the last assignment There are a total of 25 points possible "
   ]
  },
  {
   "cell_type": "markdown",
   "id": "676bc3df",
   "metadata": {},
   "source": [
    "#### list of data scince language :\n",
    "1. Python\n",
    "2. R\n",
    "3. SQL\n",
    "4. C/C++\n",
    "5. Java\n",
    "6. JavaScript\n",
    "7. Go\n",
    "8. Scala\n",
    "9. Julia\n",
    "10. Swift\n",
    "11. MATLAB\n",
    "12. SAS"
   ]
  },
  {
   "cell_type": "markdown",
   "id": "8bf1609c",
   "metadata": {},
   "source": [
    "#### data science libraries :\n",
    "\n",
    "1. Scrapy\n",
    "2. BeautifulSoup\n",
    "3. NumPy\n",
    "4. SciPy\n",
    "5. Pandas\n",
    "6. Keras\n",
    "7. SciKit-Learn\n",
    "8. PyTorch\n",
    "9. TensorFlow\n",
    "10. XGBoost\n",
    "11. Matplotlib\n",
    "12. Seaborn\n",
    "13. Bokeh\n",
    "14. Plotly\n",
    "15. pydot\n"
   ]
  },
  {
   "cell_type": "markdown",
   "id": "049740c4",
   "metadata": {},
   "source": [
    "|Data Science tools |\n",
    "|-----|\n",
    "|Apache Hadoop |\n",
    "|SAS (Statistical Analysis System)|\n",
    "|Apache Spark|\n",
    "|Data Robot|\n",
    "| Tableau |\n",
    "|BigML|\n",
    "|Apache Spark|\n",
    "|TensorFlow|\n",
    "| Jupyter|"
   ]
  },
  {
   "cell_type": "markdown",
   "id": "9b6228ae",
   "metadata": {},
   "source": [
    "### Algebraic Expressions and Equations\n",
    "\n",
    "\n",
    "\n",
    "Xavier and Yasenia have the same birthday, but they were born in different years. This year Xavier is 20 years old and Yasenia is 23, so Yasenia is three years older than Xavier. When Xavier was 15, Yasenia was 18. When Xavier will be 33, Yasenia will be 36. No matter what Xavier’s age is, Yasenia’s age will always be 3 years more.\n",
    "\n",
    "In the language of algebra, we say that Xavier's age and Yasenia's age are variable and the 3 is a constant. The ages change, or vary, so age is a variable. The 3 years between them always stays the same or has the same value, so the age difference is the constant. In algebra, letters of the alphabet are used to represent variables. The letters most often used for variables are  x\n",
    " ,  y\n",
    " ,  z\n",
    " ,  a\n",
    " ,  b\n",
    " , and  c\n",
    " . Suppose we call Xavier's age  x\n",
    " . Then we could use  x+3\n",
    "  to represent Yasenia's age, as shown in the table below."
   ]
  },
  {
   "cell_type": "code",
   "execution_count": 1,
   "id": "b4e6fef8",
   "metadata": {},
   "outputs": [
    {
     "data": {
      "text/plain": [
       "48"
      ]
     },
     "execution_count": 1,
     "metadata": {},
     "output_type": "execute_result"
    }
   ],
   "source": [
    "def multiply(a,b):\n",
    "    a*b"
   ]
  },
  {
   "cell_type": "code",
   "execution_count": 2,
   "id": "4ae65e4b",
   "metadata": {},
   "outputs": [
    {
     "data": {
      "text/plain": [
       "16"
      ]
     },
     "execution_count": 2,
     "metadata": {},
     "output_type": "execute_result"
    }
   ],
   "source": [
    "def add(a,b):\n",
    "    a+b"
   ]
  },
  {
   "cell_type": "code",
   "execution_count": 3,
   "id": "7a77c0e6",
   "metadata": {},
   "outputs": [
    {
     "data": {
      "text/plain": [
       "6"
      ]
     },
     "execution_count": 3,
     "metadata": {},
     "output_type": "execute_result"
    }
   ],
   "source": [
    "total_minutes = 374\n",
    "hours = total_minutes // 60\n",
    "minutes = total_minutes % 60\n",
    "hours"
   ]
  },
  {
   "cell_type": "markdown",
   "id": "592b50e9",
   "metadata": {},
   "source": [
    "Objectives of Using Lists in Python\n",
    "Lists are a fundamental data structure in Python that allow you to store and manipulate collections of values or objects in a specified order. Here are some objectives of using lists in Python:\n",
    "\n",
    "Storing and organizing data: Lists provide a way to store multiple values in a single variable. You can store different types of data in a list, such as numbers, strings, or even other lists.\n",
    "\n",
    "Accessing and manipulating elements: Lists allow you to access individual elements by their index, which is the position of the element in the list. You can also modify, add, or remove elements from a list.\n",
    "\n",
    "Iterating over elements: Lists can be used in loops to iterate over each element and perform operations on them. This is useful when you need to process each item in a collection.\n",
    "\n",
    "Grouping related data: Lists can be used to group related data together. For example, you can create a list of student names, a list of numbers, or a list of coordinates.\n",
    "\n",
    "Implementing algorithms and data structures: Lists are often used as the underlying data structure for implementing various algorithms and data structures, such as sorting, searching, stacks, queues, and linked lists.\n",
    "\n",
    "Passing and returning multiple values: Lists can be used to pass multiple values to functions or return multiple values from functions. This allows you to work with multiple values as a single entity.\n",
    "\n",
    "Dynamic resizing: Lists in Python are dynamic, meaning they can grow or shrink in size as needed. You can add or remove elements from a list without having to specify its size beforehand.\n",
    "\n",
    "These are just a few of the objectives of using lists in Python. Lists provide a versatile and powerful way to work with collections of data in a wide range of applications."
   ]
  },
  {
   "cell_type": "code",
   "execution_count": null,
   "id": "12402311",
   "metadata": {},
   "outputs": [],
   "source": []
  }
 ],
 "metadata": {
  "kernelspec": {
   "display_name": "Python 3 (ipykernel)",
   "language": "python",
   "name": "python3"
  },
  "language_info": {
   "codemirror_mode": {
    "name": "ipython",
    "version": 3
   },
   "file_extension": ".py",
   "mimetype": "text/x-python",
   "name": "python",
   "nbconvert_exporter": "python",
   "pygments_lexer": "ipython3",
   "version": "3.11.5"
  }
 },
 "nbformat": 4,
 "nbformat_minor": 5
}
